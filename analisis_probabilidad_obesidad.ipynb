{
 "cells": [
  {
   "cell_type": "markdown",
   "id": "a9a92603",
   "metadata": {},
   "source": [
    "\n",
    "# Análisis de la probabilidad de Obesidad en España\n",
    "\n",
    "Este notebook tiene como objetivo analizar la probabilidad de padecer obesidad en España, así como la probabilidad de que una persona obesa resida en una provincia específica. Además, se construirá un árbol de decisión básico basado en este análisis.\n",
    "\n",
    "## Contexto\n",
    "\n",
    "Se cuenta con datos sobre el total de personas diagnosticadas con obesidad en España y el total de población detallado a nivel de provincia. Los datos se encuentran en el archivo `datos_obesidad.xlsx`.\n",
    "\n",
    "## Preguntas a responder\n",
    "\n",
    "1. ¿Cuál es la probabilidad de padecer obesidad en España?\n",
    "2. Si seleccionamos una de las personas obesas al azar, ¿cuál es la probabilidad de que resida en Barcelona? ¿Y en el resto de provincias?\n",
    "3. Construir un árbol de decisión.\n",
    "\n",
    "## Datos\n",
    "\n",
    "Los datos de obesidad están basados en diferentes fuentes, como la Encuesta Nacional de Salud (ENSANUT) y el Estudio Sobre Nutrición, Actividad Física y Salud (ENAS). Los datos de población son estimaciones del INE a fecha de 1 de enero de 2023.\n"
   ]
  },
  {
   "cell_type": "code",
   "execution_count": 2,
   "id": "cab1b134",
   "metadata": {},
   "outputs": [
    {
     "data": {
      "text/html": [
       "<div>\n",
       "<style scoped>\n",
       "    .dataframe tbody tr th:only-of-type {\n",
       "        vertical-align: middle;\n",
       "    }\n",
       "\n",
       "    .dataframe tbody tr th {\n",
       "        vertical-align: top;\n",
       "    }\n",
       "\n",
       "    .dataframe thead th {\n",
       "        text-align: right;\n",
       "    }\n",
       "</style>\n",
       "<table border=\"1\" class=\"dataframe\">\n",
       "  <thead>\n",
       "    <tr style=\"text-align: right;\">\n",
       "      <th></th>\n",
       "      <th>Fecha</th>\n",
       "      <th>Provincia</th>\n",
       "      <th>Total Obesos</th>\n",
       "      <th>Total Habitantes</th>\n",
       "    </tr>\n",
       "  </thead>\n",
       "  <tbody>\n",
       "    <tr>\n",
       "      <th>0</th>\n",
       "      <td>2023-01-01</td>\n",
       "      <td>Alava</td>\n",
       "      <td>42345</td>\n",
       "      <td>323897</td>\n",
       "    </tr>\n",
       "    <tr>\n",
       "      <th>1</th>\n",
       "      <td>2023-01-01</td>\n",
       "      <td>Albacete</td>\n",
       "      <td>146234</td>\n",
       "      <td>398567</td>\n",
       "    </tr>\n",
       "    <tr>\n",
       "      <th>2</th>\n",
       "      <td>2023-01-01</td>\n",
       "      <td>Alicante</td>\n",
       "      <td>368423</td>\n",
       "      <td>1949789</td>\n",
       "    </tr>\n",
       "    <tr>\n",
       "      <th>3</th>\n",
       "      <td>2023-01-01</td>\n",
       "      <td>Almería</td>\n",
       "      <td>240567</td>\n",
       "      <td>702345</td>\n",
       "    </tr>\n",
       "    <tr>\n",
       "      <th>4</th>\n",
       "      <td>2023-01-01</td>\n",
       "      <td>Asturias</td>\n",
       "      <td>278234</td>\n",
       "      <td>1019897</td>\n",
       "    </tr>\n",
       "  </tbody>\n",
       "</table>\n",
       "</div>"
      ],
      "text/plain": [
       "       Fecha Provincia  Total Obesos  Total Habitantes\n",
       "0 2023-01-01     Alava         42345            323897\n",
       "1 2023-01-01  Albacete        146234            398567\n",
       "2 2023-01-01  Alicante        368423           1949789\n",
       "3 2023-01-01   Almería        240567            702345\n",
       "4 2023-01-01  Asturias        278234           1019897"
      ]
     },
     "execution_count": 2,
     "metadata": {},
     "output_type": "execute_result"
    }
   ],
   "source": [
    "import pandas as pd # manipulación de datos\n",
    "import openpyxl # leer excel\n",
    "# Cargar los datos\n",
    "obesidad = pd.read_excel('datos_obesidad.xlsx')\n",
    "\n",
    "# Mostrar los primeros datos\n",
    "obesidad.head()\n"
   ]
  },
  {
   "cell_type": "markdown",
   "id": "08f669dd",
   "metadata": {},
   "source": [
    "\n",
    "## 1. Cálculo de la probabilidad de padecer obesidad en España\n",
    "\n",
    "Para calcular esta probabilidad, sumamos el número total de personas obesas y el número total de habitantes en todas las provincias, y luego dividimos el total de obesos entre el total de habitantes.\n",
    "\n",
    "### Fórmula\n",
    "$$ P(A) = \\frac{\\text{Casos Favorables}}{\\text{Casos Totales}} = \\frac{\\text{Total de personas obesas en España}}{\\text{Total de habitantes en España}} $$\n",
    "\n",
    "\n"
   ]
  },
  {
   "cell_type": "code",
   "execution_count": 2,
   "id": "873ee310-511d-4369-955d-9731164279f4",
   "metadata": {},
   "outputs": [],
   "source": [
    "# Calcular el total de obesos y el total de habitantes en España\n",
    "total_obesos_espana = obesidad['Total Obesos'].sum()\n",
    "total_habitantes_espana = obesidad['Total Habitantes'].sum()"
   ]
  },
  {
   "cell_type": "code",
   "execution_count": 3,
   "id": "ea1a5169-d581-47fd-a27f-cc2dae315625",
   "metadata": {},
   "outputs": [
    {
     "data": {
      "text/plain": [
       "9156732"
      ]
     },
     "execution_count": 3,
     "metadata": {},
     "output_type": "execute_result"
    }
   ],
   "source": [
    "total_obesos_espana"
   ]
  },
  {
   "cell_type": "code",
   "execution_count": 4,
   "id": "4e401dfd-8455-43fb-b89e-78fbf9a1f01c",
   "metadata": {},
   "outputs": [
    {
     "data": {
      "text/plain": [
       "47942464"
      ]
     },
     "execution_count": 4,
     "metadata": {},
     "output_type": "execute_result"
    }
   ],
   "source": [
    "total_habitantes_espana"
   ]
  },
  {
   "cell_type": "code",
   "execution_count": 5,
   "id": "36dceed1-55e3-4b8d-b0e1-4aa909e53417",
   "metadata": {},
   "outputs": [
    {
     "data": {
      "text/plain": [
       "0.19099418836712273"
      ]
     },
     "execution_count": 5,
     "metadata": {},
     "output_type": "execute_result"
    }
   ],
   "source": [
    "# Calcular la probabilidad de padecer obesidad en España\n",
    "probabilidad_obesidad_espana = total_obesos_espana / total_habitantes_espana\n",
    "probabilidad_obesidad_espana"
   ]
  },
  {
   "cell_type": "markdown",
   "id": "fdfcd603-308c-4b1e-ba90-e5795a01654b",
   "metadata": {},
   "source": [
    "### Sustitución\n",
    "$$\n",
    "P(A) = \\frac{9,156,732}{47,942,464} = 0.19099418836712273\n",
    "$$"
   ]
  },
  {
   "cell_type": "markdown",
   "id": "118d1594-dab7-4697-888e-c39c245c7296",
   "metadata": {},
   "source": [
    "**Comentario:** Calculamos la probabilidad de que una persona en España sea obesa dividiendo el total de personas obesas por el total de habitantes. Imprimimos los resultados para revisar los valores calculados."
   ]
  },
  {
   "cell_type": "markdown",
   "id": "04c9a415-28e7-4f82-8aa1-b5efc3725496",
   "metadata": {},
   "source": [
    "**Interpretación de resultados:**\n",
    "\n",
    "* Total de personas obesas en España: 9,156,732\n",
    "* Total de habitantes en España: 47,942,464\n",
    "* **Probabilidad de padecer obesidad en España:** 19.1%"
   ]
  },
  {
   "cell_type": "markdown",
   "id": "5b152f57",
   "metadata": {},
   "source": [
    "\n",
    "## 2. Probabilidad de que una persona obesa resida en Barcelona\n",
    "\n",
    "Vamos a calcular la probabilidad de que una persona obesa seleccionada al azar resida en Barcelona.\n",
    "\n",
    "### Fórmula\n",
    "$$  P(B|A) = \\frac{P(A \\cap B)}{P(A)}\n",
    " = \\frac{\\text{Total de obesos en Barcelona}}{\\text{Total de obesos en España}}  $$\n",
    "\n",
    "**P(B∣A):** \"Dado que sé que una persona es obesa, ¿cuál es la probabilidad de que viva en Barcelona?\""
   ]
  },
  {
   "cell_type": "code",
   "execution_count": 6,
   "id": "c85e0abe-db88-433c-b83d-7e0d6f6f0083",
   "metadata": {},
   "outputs": [
    {
     "data": {
      "text/html": [
       "<div>\n",
       "<style scoped>\n",
       "    .dataframe tbody tr th:only-of-type {\n",
       "        vertical-align: middle;\n",
       "    }\n",
       "\n",
       "    .dataframe tbody tr th {\n",
       "        vertical-align: top;\n",
       "    }\n",
       "\n",
       "    .dataframe thead th {\n",
       "        text-align: right;\n",
       "    }\n",
       "</style>\n",
       "<table border=\"1\" class=\"dataframe\">\n",
       "  <thead>\n",
       "    <tr style=\"text-align: right;\">\n",
       "      <th></th>\n",
       "      <th>Fecha</th>\n",
       "      <th>Provincia</th>\n",
       "      <th>Total Obesos</th>\n",
       "      <th>Total Habitantes</th>\n",
       "    </tr>\n",
       "  </thead>\n",
       "  <tbody>\n",
       "    <tr>\n",
       "      <th>8</th>\n",
       "      <td>2023-01-01</td>\n",
       "      <td>Barcelona</td>\n",
       "      <td>712897</td>\n",
       "      <td>5539567</td>\n",
       "    </tr>\n",
       "  </tbody>\n",
       "</table>\n",
       "</div>"
      ],
      "text/plain": [
       "       Fecha  Provincia  Total Obesos  Total Habitantes\n",
       "8 2023-01-01  Barcelona        712897           5539567"
      ]
     },
     "execution_count": 6,
     "metadata": {},
     "output_type": "execute_result"
    }
   ],
   "source": [
    "# Filtrar los datos para obtener los valores específicos de Barcelona\n",
    "barcelona_data = obesidad[obesidad['Provincia'] == 'Barcelona']\n",
    "barcelona_data"
   ]
  },
  {
   "cell_type": "code",
   "execution_count": 7,
   "id": "9a420f26-a137-4c80-a5c9-93cfa31ec706",
   "metadata": {},
   "outputs": [
    {
     "data": {
      "text/plain": [
       "712897"
      ]
     },
     "execution_count": 7,
     "metadata": {},
     "output_type": "execute_result"
    }
   ],
   "source": [
    "# Total de obesos en Barcelona\n",
    "total_obesos_barcelona = barcelona_data['Total Obesos'].sum()\n",
    "total_obesos_barcelona"
   ]
  },
  {
   "cell_type": "code",
   "execution_count": 8,
   "id": "17d4e401-24e2-42dd-97a0-c73294aa94ef",
   "metadata": {},
   "outputs": [
    {
     "data": {
      "text/plain": [
       "0.0778549596078601"
      ]
     },
     "execution_count": 8,
     "metadata": {},
     "output_type": "execute_result"
    }
   ],
   "source": [
    "# Calcular la probabilidad de que una persona obesa resida en Barcelona\n",
    "probabilidad_obeso_barcelona = total_obesos_barcelona / total_obesos_espana\n",
    "probabilidad_obeso_barcelona"
   ]
  },
  {
   "cell_type": "markdown",
   "id": "55bce465-0fae-424d-800e-11f8723c046f",
   "metadata": {},
   "source": [
    "### Sustitución\n",
    "$$\n",
    "P(B|A) = \\frac{712,897}{9,156,732} = 0.0778549596078601\n",
    "$$"
   ]
  },
  {
   "cell_type": "markdown",
   "id": "1839b2b6-39e9-49a5-a09d-2caad10b6949",
   "metadata": {},
   "source": [
    "**Comentario:** Filtramos los datos para obtener los valores específicos de Barcelona y calculamos la probabilidad de que una persona obesa resida en Barcelona."
   ]
  },
  {
   "cell_type": "markdown",
   "id": "3bda2566-0b3d-40ea-8253-15748198218f",
   "metadata": {},
   "source": [
    "**Interpretación de resultados:**\n",
    "\n",
    "* Total de personas obesas en Barcelona: 712,897\n",
    "* **Probabilidad de que una persona obesa resida en Barcelona:** 7.8%"
   ]
  },
  {
   "cell_type": "markdown",
   "id": "418c5592-4d18-4139-8130-120eb6a56928",
   "metadata": {},
   "source": [
    "## 2.1 Probabilidad de que una persona obesa resida en una provincia que no sea Barcelona"
   ]
  },
  {
   "cell_type": "markdown",
   "id": "1539ada3-fa41-4604-b20f-a173d8db623e",
   "metadata": {},
   "source": [
    "Esta probabilidad se calcula como el complemento de la probabilidad de que resida en Barcelona:\n",
    "\n",
    "### Fórmula\n",
    "$$\n",
    "P(\\bar{B}|A) = 1 - P(B|A)\n",
    "$$\n",
    "\n",
    "### Sustitución\n",
    "$$\n",
    "P(\\bar{B}|A) = 1 - 0.0779 = 0.9221\n",
    "$$\n",
    "\n",
    "Por lo tanto, la **probabilidad de que una persona obesa no resida en Barcelona es de aproximadamente 92.21%**."
   ]
  },
  {
   "cell_type": "markdown",
   "id": "472fc941-e3a4-4795-84b5-c5fd9ff8e643",
   "metadata": {},
   "source": [
    "## 3. Arbol de Desición"
   ]
  },
  {
   "cell_type": "markdown",
   "id": "64503665-9934-471d-9261-8636c107effe",
   "metadata": {},
   "source": [
    "### Cálculo de $$ P(\\bar{A})  \\quad , \\quad P(\\bar{B}|\\bar{A}) \\quad y \\quad P(B|\\bar{A}) \\quad $$\n",
    "\n",
    "Para completar el árbol de decisión, calculamos las siguientes probabilidades:\n",
    "\n",
    "\n",
    "1. **Probabilidad de no ser obeso:** \n",
    "$$\n",
    "P(\\bar{A}) = 1 - P({A})\n",
    "$$\n",
    "\n",
    "2. **Probabilidad de residir en Barcelona dado que no se es obeso:** \n",
    "$$\n",
    "P(B|\\bar{A}) = \\frac{\\text{Total de personas no obesas en Barcelona}}{\\text{Total de personas no obesas en España}}\n",
    "$$\n",
    "\n",
    "3. **Probabilidad de no residir en Barcelona dado que no se es obeso:**:\n",
    "$$\n",
    "P(\\bar{B}|\\bar{A}) = 1 - P(B|\\bar{A})\n",
    "$$ \n",
    "\n"
   ]
  },
  {
   "cell_type": "code",
   "execution_count": 9,
   "id": "225f4879-a1d2-4f51-bc05-1631225e6bd0",
   "metadata": {},
   "outputs": [
    {
     "data": {
      "text/plain": [
       "38785732"
      ]
     },
     "execution_count": 9,
     "metadata": {},
     "output_type": "execute_result"
    }
   ],
   "source": [
    "# Calcular el total de no obesos en España\n",
    "total_no_obesos_espana = total_habitantes_espana - total_obesos_espana\n",
    "total_no_obesos_espana"
   ]
  },
  {
   "cell_type": "code",
   "execution_count": 11,
   "id": "9aa2014e-3ed7-46b8-8f3a-1046cdec88f0",
   "metadata": {},
   "outputs": [
    {
     "data": {
      "text/plain": [
       "8    4826670\n",
       "Name: Total Habitantes, dtype: int64"
      ]
     },
     "execution_count": 11,
     "metadata": {},
     "output_type": "execute_result"
    }
   ],
   "source": [
    "# Calcular el total de no obesos en Barcelona\n",
    "total_habitantes_barcelona=barcelona_data['Total Habitantes']\n",
    "total_no_obesos_barcelona = total_habitantes_barcelona - total_obesos_barcelona\n",
    "total_no_obesos_barcelona"
   ]
  },
  {
   "cell_type": "code",
   "execution_count": 12,
   "id": "b3f2e6ca-cbae-4721-9728-0e9b2e19161a",
   "metadata": {},
   "outputs": [
    {
     "data": {
      "text/plain": [
       "8    0.124444\n",
       "Name: Total Habitantes, dtype: float64"
      ]
     },
     "execution_count": 12,
     "metadata": {},
     "output_type": "execute_result"
    }
   ],
   "source": [
    "# Calcular la probabilidad de residir en Barcelona dado que no se es obeso\n",
    "probabilidad_no_obeso_barcelona = total_no_obesos_barcelona / total_no_obesos_espana\n",
    "probabilidad_no_obeso_barcelona"
   ]
  },
  {
   "cell_type": "code",
   "execution_count": 13,
   "id": "2fa4a372-360e-43e8-af43-c6c282465e3d",
   "metadata": {},
   "outputs": [
    {
     "data": {
      "text/plain": [
       "8    0.875556\n",
       "Name: Total Habitantes, dtype: float64"
      ]
     },
     "execution_count": 13,
     "metadata": {},
     "output_type": "execute_result"
    }
   ],
   "source": [
    "# Calcular la probabilidad de no residir en Barcelona dado que no se es obeso\n",
    "probabilidad_no_residir_barcelona = 1 - probabilidad_no_obeso_barcelona\n",
    "probabilidad_no_residir_barcelona"
   ]
  },
  {
   "cell_type": "code",
   "execution_count": 14,
   "id": "b5ce2e32-8972-48e8-b2b0-813de198e39a",
   "metadata": {},
   "outputs": [
    {
     "data": {
      "text/plain": [
       "0.8090058116328773"
      ]
     },
     "execution_count": 14,
     "metadata": {},
     "output_type": "execute_result"
    }
   ],
   "source": [
    "# Calcular la probabilidad de no ser obeso\n",
    "probabilidad_no_ser_obeso = 1 - probabilidad_obesidad_espana\n",
    "probabilidad_no_ser_obeso"
   ]
  },
  {
   "cell_type": "markdown",
   "id": "392e18a6-3c18-439e-8464-4a5a16ab4974",
   "metadata": {},
   "source": [
    "### Sustitución\n",
    "$$\n",
    "P(B|\\bar{A}) = \\frac{4,826,670}{38,785,732} = 0.1244443256337964\n",
    "$$\n",
    "$$\n",
    "P(\\bar{B}|\\bar{A}) = 1 - 0.1244443256337964 = 0.8755556743662036\n",
    "$$\n",
    "\n",
    "$$\n",
    "P(\\bar{A}) = 1 - 0.19099418836712273 = 0.8090058116328773\r\n",
    "$$"
   ]
  },
  {
   "cell_type": "markdown",
   "id": "126ce05b-5ba5-4058-b7bd-9a6152737848",
   "metadata": {},
   "source": [
    "**Interpretación de resultados:**\n",
    "\n",
    "* **Probabilidad de residir en Barcelona dado que no se es obeso:** 12.4%\n",
    "* **Probabilidad de no residir en Barcelona dado que no se es obeso:** 87.6%\n",
    "* **Probabilidad de no ser obeso:** 80.9%"
   ]
  },
  {
   "cell_type": "code",
   "execution_count": 33,
   "id": "24aa103b-5377-4b95-a1a6-27e4f02a8e66",
   "metadata": {},
   "outputs": [
    {
     "name": "stderr",
     "output_type": "stream",
     "text": [
      "C:\\Users\\Edison\\AppData\\Local\\Temp\\ipykernel_12648\\1494070249.py:36: FutureWarning: Calling float on a single element Series is deprecated and will raise a TypeError in the future. Use float(ser.iloc[0]) instead\n",
      "  ('No Obeso (Ā)', 'Reside en Barcelona (B|Ā)'): f\"P(B|Ā) = {float(probabilidad_no_obeso_barcelona):.2f}\",\n",
      "C:\\Users\\Edison\\AppData\\Local\\Temp\\ipykernel_12648\\1494070249.py:37: FutureWarning: Calling float on a single element Series is deprecated and will raise a TypeError in the future. Use float(ser.iloc[0]) instead\n",
      "  ('No Obeso (Ā)', 'No Reside en Barcelona (B̄|Ā)'): f\"P(B̄|Ā) = {float(probabilidad_no_residir_barcelona):.2f}\"\n"
     ]
    },
    {
     "data": {
      "image/png": "[encoded data removed]",
      "text/plain": [
       "<Figure size 1400x800 with 1 Axes>"
      ]
     },
     "metadata": {},
     "output_type": "display_data"
    }
   ],
   "source": [
    "import matplotlib.pyplot as plt\n",
    "import networkx as nx\n",
    "\n",
    "# Crear el gráfico del árbol de decisión\n",
    "def plot_decision_tree_alternative():\n",
    "    # Crear un grafo\n",
    "    G = nx.DiGraph()\n",
    "\n",
    "    # Añadir nodos y aristas con sus respectivas probabilidades\n",
    "    G.add_edges_from([\n",
    "        ('Inicio', 'Obeso (A)'), \n",
    "        ('Inicio', 'No Obeso (Ā)'),\n",
    "        ('Obeso (A)', 'Reside en Barcelona (B|A)'),\n",
    "        ('Obeso (A)', 'No Reside en Barcelona (B̄|A)'),\n",
    "        ('No Obeso (Ā)', 'Reside en Barcelona (B|Ā)'),\n",
    "        ('No Obeso (Ā)', 'No Reside en Barcelona (B̄|Ā)')\n",
    "    ])\n",
    "\n",
    "    # Posiciones de los nodos\n",
    "    pos = {\n",
    "        'Inicio': (0, 0),\n",
    "        'Obeso (A)': (-1, -1),\n",
    "        'No Obeso (Ā)': (1, -1),\n",
    "        'Reside en Barcelona (B|A)': (-1.5, -2),\n",
    "        'No Reside en Barcelona (B̄|A)': (-0.5, -2),\n",
    "        'Reside en Barcelona (B|Ā)': (0.5, -2),\n",
    "        'No Reside en Barcelona (B̄|Ā)': (1.5, -2)\n",
    "    }\n",
    "\n",
    "    # Etiquetas de las aristas\n",
    "    labels = {\n",
    "        ('Inicio', 'Obeso (A)'): f\"P(A) = {probabilidad_obesidad_espana:.2f}\",\n",
    "        ('Inicio', 'No Obeso (Ā)'): f\"P(Ā) = {probabilidad_no_ser_obeso:.2f}\",\n",
    "        ('Obeso (A)', 'Reside en Barcelona (B|A)'): f\"P(B|A) = {probabilidad_obeso_barcelona:.2f}\",\n",
    "        ('Obeso (A)', 'No Reside en Barcelona (B̄|A)'): f\"P(B̄|A) = {1 - probabilidad_obeso_barcelona:.2f}\",\n",
    "        ('No Obeso (Ā)', 'Reside en Barcelona (B|Ā)'): f\"P(B|Ā) = {float(probabilidad_no_obeso_barcelona):.2f}\",\n",
    "        ('No Obeso (Ā)', 'No Reside en Barcelona (B̄|Ā)'): f\"P(B̄|Ā) = {float(probabilidad_no_residir_barcelona):.2f}\"\n",
    "    }\n",
    "\n",
    "    # Dibujar el grafo\n",
    "    plt.figure(figsize=(14, 8))\n",
    "    nx.draw(G, pos, with_labels=True, node_size=3000, node_color='lightblue', font_size=10, font_weight='bold', arrows=True)\n",
    "    nx.draw_networkx_edge_labels(G, pos, edge_labels=labels, font_color='red')\n",
    "    plt.title('Árbol de Decisión ')\n",
    "    plt.show()\n",
    "\n",
    "plot_decision_tree_alternative()\n",
    "\n"
   ]
  },
  {
   "cell_type": "markdown",
   "id": "f84b07d8-0a5d-483d-bc57-09fd5c18b782",
   "metadata": {},
   "source": [
    "## Explicación del Árbol de Decisión\n",
    "\n",
    "El árbol de decisión muestra las diferentes probabilidades condicionales y conjuntas relacionadas con la obesidad y la residencia en Barcelona. Las probabilidades están organizadas de manera que podemos seguir cada rama para entender las relaciones entre ser obeso y residir en Barcelona.\n",
    "\n",
    "- **Probabilidad de ser obeso:** $$ P(A)=19.1% $$\n",
    "- **Probabilidad de no ser obeso:**  $$P(\\bar{A}) = 80.9%$$\n",
    "- **Probabilidad de residir en Barcelona dado que se es obeso:** $$ P(B|A) = 7.8%$$\n",
    "- **Probabilidad de no residir en Barcelona dado que se es obeso:**  $$P(\\bar{B}|A) = 92.2%$$\n",
    "- **Probabilidad de residir en Barcelona dado que no se es obeso:** $$ P(B|\\bar{A}) = 12.4%$$\n",
    "- **Probabilidad de no residir en Barcelona dado que no se es obeso:** $$ P(\\bar{B}|\\bar{A}) = 87.6%$$\n"
   ]
  }
 ],
 "metadata": {
  "kernelspec": {
   "display_name": "Python 3 (ipykernel)",
   "language": "python",
   "name": "python3"
  },
  "language_info": {
   "codemirror_mode": {
    "name": "ipython",
    "version": 3
   },
   "file_extension": ".py",
   "mimetype": "text/x-python",
   "name": "python",
   "nbconvert_exporter": "python",
   "pygments_lexer": "ipython3",
   "version": "3.9.19"
  }
 },
 "nbformat": 4,
 "nbformat_minor": 5
}
